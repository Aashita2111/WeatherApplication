{
  "nbformat": 4,
  "nbformat_minor": 0,
  "metadata": {
    "colab": {
      "provenance": [],
      "authorship_tag": "ABX9TyPGD09BAZ7cbpB4xA/nclKG",
      "include_colab_link": true
    },
    "kernelspec": {
      "name": "python3",
      "display_name": "Python 3"
    },
    "language_info": {
      "name": "python"
    }
  },
  "cells": [
    {
      "cell_type": "markdown",
      "metadata": {
        "id": "view-in-github",
        "colab_type": "text"
      },
      "source": [
        "<a href=\"https://colab.research.google.com/github/Aashita2111/WeatherApplication/blob/main/WeatherApplication.ipynb\" target=\"_parent\"><img src=\"https://colab.research.google.com/assets/colab-badge.svg\" alt=\"Open In Colab\"/></a>"
      ]
    },
    {
      "cell_type": "code",
      "execution_count": 1,
      "metadata": {
        "colab": {
          "base_uri": "https://localhost:8080/"
        },
        "id": "CS8x5zpvE74R",
        "outputId": "eebe6b2c-8543-40e9-8554-819ae319f567"
      },
      "outputs": [
        {
          "output_type": "stream",
          "name": "stdout",
          "text": [
            "Requirement already satisfied: requests in /usr/local/lib/python3.10/dist-packages (2.31.0)\n",
            "Requirement already satisfied: charset-normalizer<4,>=2 in /usr/local/lib/python3.10/dist-packages (from requests) (3.3.2)\n",
            "Requirement already satisfied: idna<4,>=2.5 in /usr/local/lib/python3.10/dist-packages (from requests) (3.6)\n",
            "Requirement already satisfied: urllib3<3,>=1.21.1 in /usr/local/lib/python3.10/dist-packages (from requests) (2.0.7)\n",
            "Requirement already satisfied: certifi>=2017.4.17 in /usr/local/lib/python3.10/dist-packages (from requests) (2024.2.2)\n"
          ]
        }
      ],
      "source": [
        "pip install requests"
      ]
    },
    {
      "cell_type": "code",
      "source": [
        "import requests"
      ],
      "metadata": {
        "id": "DcSHG-12FGFl"
      },
      "execution_count": 5,
      "outputs": []
    },
    {
      "cell_type": "code",
      "source": [
        "def get_weather(city,api_key):\n",
        "  url = f\"http://api.openweathermap.org/data/2.5/weather?q={city}&appid={api_key}&units=metric\"\n",
        "  response = requests.get(url)\n",
        "  data = response.json()\n",
        "\n",
        "  if data['cod'] == 200:\n",
        "    weather = {\n",
        "        'city' : city,\n",
        "        'temp' : data['main']['temp'],\n",
        "        'description' : data['weather'][0]['description'],\n",
        "        'humidity' : data['main']['humidity'],\n",
        "        'windspeed' : data['wind']['speed']\n",
        "    }\n",
        "    return weather\n",
        "  else:\n",
        "    return None\n",
        "\n",
        "def main():\n",
        "  city = input(\"Enter city name: \")\n",
        "  api_key = 'ef9ea3bf617d44fa6b5fedd8a4d12a1e'\n",
        "  weather = get_weather(city,api_key)\n",
        "\n",
        "  if weather:\n",
        "    print(f\"Weather in {weather['city']}-\")\n",
        "    print(f\"Temperature  {weather['temp']}°C\")\n",
        "    print(f\"Description  {weather['description']}\")\n",
        "    print(f\"Humidity  {weather['humidity']}%\")\n",
        "    print(f\"Wind Speed  {weather['windspeed']} m/s\")\n",
        "\n",
        "  else:\n",
        "    print(\"Weather of that city is not available at present\")\n",
        "\n",
        "if __name__ == \"__main__\":\n",
        "  main()"
      ],
      "metadata": {
        "colab": {
          "base_uri": "https://localhost:8080/"
        },
        "id": "CCLEusi9FIvd",
        "outputId": "15237f3a-86e7-4abf-cbb4-2c1fe3d720de"
      },
      "execution_count": 10,
      "outputs": [
        {
          "output_type": "stream",
          "name": "stdout",
          "text": [
            "Enter city name: Hyderabad\n",
            "Weather in Hyderabad-\n",
            "Temperature  31.23°C\n",
            "Description  scattered clouds\n",
            "Humidity  37%\n",
            "Wind Speed  4.63 m/s\n"
          ]
        }
      ]
    }
  ]
}